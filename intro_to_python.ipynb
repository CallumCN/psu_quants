{
  "nbformat": 4,
  "nbformat_minor": 0,
  "metadata": {
    "colab": {
      "provenance": []
    },
    "kernelspec": {
      "name": "python3",
      "display_name": "Python 3"
    },
    "language_info": {
      "name": "python"
    }
  },
  "cells": [
    {
      "cell_type": "code",
      "execution_count": null,
      "metadata": {
        "id": "GHZ8cj6cqJqm"
      },
      "outputs": [],
      "source": [
        "three = 3"
      ]
    },
    {
      "cell_type": "code",
      "source": [
        "print(\"kpatel103's edit\")"
      ],
      "metadata": {
        "id": "bFWuxUcD8GxO"
      },
      "execution_count": null,
      "outputs": []
    },
    {
      "cell_type": "code",
      "source": [
        "list_1 = [1,2,3,4,5]"
      ],
      "metadata": {
        "id": "dV8jH281qVJE"
      },
      "execution_count": null,
      "outputs": []
    },
    {
      "cell_type": "code",
      "source": [
        "list_1[0]"
      ],
      "metadata": {
        "colab": {
          "base_uri": "https://localhost:8080/"
        },
        "id": "f5EpUjvpqirL",
        "outputId": "224b17ec-f78b-4a7a-e049-35acda7a9788"
      },
      "execution_count": null,
      "outputs": [
        {
          "output_type": "execute_result",
          "data": {
            "text/plain": [
              "1"
            ]
          },
          "metadata": {},
          "execution_count": 7
        }
      ]
    },
    {
      "cell_type": "code",
      "source": [
        "list_1[4]"
      ],
      "metadata": {
        "colab": {
          "base_uri": "https://localhost:8080/"
        },
        "id": "C1xm3Pdoq0sh",
        "outputId": "7739179f-1d73-4b75-a111-b7b4dc02c0c9"
      },
      "execution_count": null,
      "outputs": [
        {
          "output_type": "execute_result",
          "data": {
            "text/plain": [
              "5"
            ]
          },
          "metadata": {},
          "execution_count": 8
        }
      ]
    },
    {
      "cell_type": "code",
      "source": [
        "len(list_1)"
      ],
      "metadata": {
        "colab": {
          "base_uri": "https://localhost:8080/"
        },
        "id": "glp8Cko8q5va",
        "outputId": "38f3f7d1-27c1-410b-a813-6009c9cae74e"
      },
      "execution_count": null,
      "outputs": [
        {
          "output_type": "execute_result",
          "data": {
            "text/plain": [
              "5"
            ]
          },
          "metadata": {},
          "execution_count": 9
        }
      ]
    },
    {
      "cell_type": "code",
      "source": [
        "print(three)"
      ],
      "metadata": {
        "colab": {
          "base_uri": "https://localhost:8080/"
        },
        "id": "-cZ5IsfzrAtC",
        "outputId": "5048a97a-efe3-4358-a591-09a8c596c0b6"
      },
      "execution_count": null,
      "outputs": [
        {
          "output_type": "stream",
          "name": "stdout",
          "text": [
            "3\n"
          ]
        }
      ]
    },
    {
      "cell_type": "code",
      "source": [
        "for integer in list_1:\n",
        "  print(integer)"
      ],
      "metadata": {
        "colab": {
          "base_uri": "https://localhost:8080/"
        },
        "id": "AQ1UFuyorNua",
        "outputId": "33a63199-0e29-4942-c879-91ca6e672339"
      },
      "execution_count": null,
      "outputs": [
        {
          "output_type": "stream",
          "name": "stdout",
          "text": [
            "1\n",
            "2\n",
            "3\n",
            "4\n",
            "5\n"
          ]
        }
      ]
    },
    {
      "cell_type": "code",
      "source": [
        "type(list_1)"
      ],
      "metadata": {
        "colab": {
          "base_uri": "https://localhost:8080/"
        },
        "id": "FulGWWIBrk2y",
        "outputId": "faf342e9-855f-4e6d-e931-56fa9053bb7d"
      },
      "execution_count": null,
      "outputs": [
        {
          "output_type": "execute_result",
          "data": {
            "text/plain": [
              "list"
            ]
          },
          "metadata": {},
          "execution_count": 13
        }
      ]
    },
    {
      "cell_type": "code",
      "source": [
        "list_2 = [20,33333,456,0,21]"
      ],
      "metadata": {
        "id": "0hPa-ADcroPi"
      },
      "execution_count": null,
      "outputs": []
    },
    {
      "cell_type": "code",
      "source": [
        "list_2.sort()"
      ],
      "metadata": {
        "id": "Rah7L1GCrt74"
      },
      "execution_count": null,
      "outputs": []
    },
    {
      "cell_type": "code",
      "source": [
        "list_2"
      ],
      "metadata": {
        "colab": {
          "base_uri": "https://localhost:8080/"
        },
        "id": "hIkLGQFEr06g",
        "outputId": "3c55bc7b-9f30-4d0b-91b3-1ba99220f65e"
      },
      "execution_count": null,
      "outputs": [
        {
          "output_type": "execute_result",
          "data": {
            "text/plain": [
              "[0, 20, 21, 456, 33333]"
            ]
          },
          "metadata": {},
          "execution_count": 16
        }
      ]
    },
    {
      "cell_type": "code",
      "source": [
        "list_2.append(35)"
      ],
      "metadata": {
        "id": "iIQDorXfr3af"
      },
      "execution_count": null,
      "outputs": []
    },
    {
      "cell_type": "code",
      "source": [
        "list_2"
      ],
      "metadata": {
        "colab": {
          "base_uri": "https://localhost:8080/"
        },
        "id": "vavgApE6r7J_",
        "outputId": "de26a558-6191-4d82-8c3b-040f5bbdf4e6"
      },
      "execution_count": null,
      "outputs": [
        {
          "output_type": "execute_result",
          "data": {
            "text/plain": [
              "[0, 20, 21, 456, 33333, 35]"
            ]
          },
          "metadata": {},
          "execution_count": 18
        }
      ]
    },
    {
      "cell_type": "code",
      "source": [
        "list_2.pop()"
      ],
      "metadata": {
        "colab": {
          "base_uri": "https://localhost:8080/"
        },
        "id": "IoMafV6ks_ul",
        "outputId": "a52a8068-34cd-4a57-c492-47899889172d"
      },
      "execution_count": null,
      "outputs": [
        {
          "output_type": "execute_result",
          "data": {
            "text/plain": [
              "35"
            ]
          },
          "metadata": {},
          "execution_count": 26
        }
      ]
    },
    {
      "cell_type": "code",
      "source": [
        "list_2"
      ],
      "metadata": {
        "colab": {
          "base_uri": "https://localhost:8080/"
        },
        "id": "g6yYggdDtCRd",
        "outputId": "eb98e216-2a0f-49a1-e7c8-43ab2d44cd08"
      },
      "execution_count": null,
      "outputs": [
        {
          "output_type": "execute_result",
          "data": {
            "text/plain": [
              "[0, 20, 21, 456, 33333]"
            ]
          },
          "metadata": {},
          "execution_count": 27
        }
      ]
    },
    {
      "cell_type": "code",
      "source": [
        "3 in list_2"
      ],
      "metadata": {
        "colab": {
          "base_uri": "https://localhost:8080/"
        },
        "id": "gPtl0lh9r9n3",
        "outputId": "cfc10370-05c7-47e3-cabe-4f18c382ae28"
      },
      "execution_count": null,
      "outputs": [
        {
          "output_type": "execute_result",
          "data": {
            "text/plain": [
              "False"
            ]
          },
          "metadata": {},
          "execution_count": 19
        }
      ]
    },
    {
      "cell_type": "code",
      "source": [
        "5 == 3"
      ],
      "metadata": {
        "colab": {
          "base_uri": "https://localhost:8080/"
        },
        "id": "cateKYo1sTIm",
        "outputId": "86277d34-ef9c-4585-f8cc-3da93be1da09"
      },
      "execution_count": null,
      "outputs": [
        {
          "output_type": "execute_result",
          "data": {
            "text/plain": [
              "False"
            ]
          },
          "metadata": {},
          "execution_count": 20
        }
      ]
    },
    {
      "cell_type": "code",
      "source": [
        "60==60"
      ],
      "metadata": {
        "colab": {
          "base_uri": "https://localhost:8080/"
        },
        "id": "54mRxsT_sVUu",
        "outputId": "d0088173-9b9d-4463-c182-871c18ce6d9e"
      },
      "execution_count": null,
      "outputs": [
        {
          "output_type": "execute_result",
          "data": {
            "text/plain": [
              "True"
            ]
          },
          "metadata": {},
          "execution_count": 21
        }
      ]
    },
    {
      "cell_type": "code",
      "source": [
        "if 5 == 4:\n",
        "  print(\"5 is equal to 5\")"
      ],
      "metadata": {
        "id": "zUVZqQ-qsXHw"
      },
      "execution_count": null,
      "outputs": []
    },
    {
      "cell_type": "code",
      "source": [
        "names = [\"Ian\", \"Jack\", \"Om\", \"Rujha\"]"
      ],
      "metadata": {
        "id": "fgPLHAJgsm7G"
      },
      "execution_count": null,
      "outputs": []
    },
    {
      "cell_type": "code",
      "source": [
        "for name in names:\n",
        "  print(name)"
      ],
      "metadata": {
        "colab": {
          "base_uri": "https://localhost:8080/"
        },
        "id": "FOinQkV3svZt",
        "outputId": "b4802777-fe6b-473d-f009-248159f79f72"
      },
      "execution_count": null,
      "outputs": [
        {
          "output_type": "stream",
          "name": "stdout",
          "text": [
            "Ian\n",
            "Jack\n",
            "Om\n",
            "Rujha\n"
          ]
        }
      ]
    },
    {
      "cell_type": "code",
      "source": [
        "def name_checker(list_of_names, poi):\n",
        "  for name in list_of_names:\n",
        "    if name == poi:\n",
        "      return(\"The person is in the list\")\n",
        "  return(\"The person is not in the list\")"
      ],
      "metadata": {
        "id": "bg-PYnLjs03V"
      },
      "execution_count": null,
      "outputs": []
    },
    {
      "cell_type": "code",
      "source": [
        "def name_checker_2(list_of_names, poi):\n",
        "  return (poi in list_of_names)"
      ],
      "metadata": {
        "id": "ONW8iQXjufjj"
      },
      "execution_count": null,
      "outputs": []
    },
    {
      "cell_type": "code",
      "source": [
        "names = [\"Ian\", \"Jack\", \"Om\", \"Rujha\"]"
      ],
      "metadata": {
        "id": "bmKnUFMyuEEE"
      },
      "execution_count": null,
      "outputs": []
    },
    {
      "cell_type": "code",
      "source": [
        "name_checker_2(names, \"Jack\")"
      ],
      "metadata": {
        "colab": {
          "base_uri": "https://localhost:8080/"
        },
        "id": "4TQIhd3RuF-M",
        "outputId": "27e6aecc-b854-4baf-e039-22c79ee55e60"
      },
      "execution_count": null,
      "outputs": [
        {
          "output_type": "execute_result",
          "data": {
            "text/plain": [
              "True"
            ]
          },
          "metadata": {},
          "execution_count": 34
        }
      ]
    },
    {
      "cell_type": "code",
      "source": [
        "name_checker_2(names, \"Artemii\")"
      ],
      "metadata": {
        "colab": {
          "base_uri": "https://localhost:8080/"
        },
        "id": "sJDKi5GUuSVb",
        "outputId": "ee95f10b-9856-487f-956a-16b9f1a74dfa"
      },
      "execution_count": null,
      "outputs": [
        {
          "output_type": "execute_result",
          "data": {
            "text/plain": [
              "False"
            ]
          },
          "metadata": {},
          "execution_count": 35
        }
      ]
    },
    {
      "cell_type": "code",
      "source": [
        "3 > 5"
      ],
      "metadata": {
        "colab": {
          "base_uri": "https://localhost:8080/"
        },
        "id": "bkfW-5sHuW5C",
        "outputId": "2831ab2a-98e9-4790-9814-b411d3e9c8af"
      },
      "execution_count": null,
      "outputs": [
        {
          "output_type": "execute_result",
          "data": {
            "text/plain": [
              "False"
            ]
          },
          "metadata": {},
          "execution_count": 32
        }
      ]
    },
    {
      "cell_type": "code",
      "source": [
        "class Portfolio:\n",
        "  def __init__(self, manager, avg_return, investor_fee, positions_dict):\n",
        "    self.manager = manager\n",
        "    self.avg_return = avg_return\n",
        "    self.investor_fee = investor_fee\n",
        "    self.positions = positions_dict\n",
        "\n",
        "  def avg_return(self):\n",
        "    print(\"The average return of our fund is {fund_performance}\".format(self.avg_return))\n",
        "\n",
        "  def add_position(self, ticker, price):\n",
        "    self.positions[ticker] = price\n",
        "\n",
        "  def change_investor_fee(self, new_investor_fee):\n",
        "    self.investor_fee = new_investor_fee\n",
        "\n",
        "  def get_investor(self):\n",
        "    print(f\"Our investors fee is {self.investor_fee}\")\n",
        "\n",
        "  def fire_manager(self):\n",
        "    self.manager = None"
      ],
      "metadata": {
        "id": "oTcCZ7fduzAM"
      },
      "execution_count": null,
      "outputs": []
    },
    {
      "cell_type": "code",
      "source": [
        "portfolio = {\"MSFT\": 140.3, \"AAPL\": 158.36, \"NTFLX\": 240}"
      ],
      "metadata": {
        "id": "ARPDqvoJxCl8"
      },
      "execution_count": null,
      "outputs": []
    },
    {
      "cell_type": "code",
      "source": [
        "artemii_capital = Portfolio(\"Artemii\", 20, 3, portfolio)"
      ],
      "metadata": {
        "id": "c6wgmJqyzrOK"
      },
      "execution_count": null,
      "outputs": []
    },
    {
      "cell_type": "code",
      "source": [
        "type(artemii_capital)"
      ],
      "metadata": {
        "colab": {
          "base_uri": "https://localhost:8080/"
        },
        "id": "Nwz0x6580Fq5",
        "outputId": "2edf8220-da40-4184-9f2e-37c346c43399"
      },
      "execution_count": null,
      "outputs": [
        {
          "output_type": "execute_result",
          "data": {
            "text/plain": [
              "__main__.Portfolio"
            ]
          },
          "metadata": {},
          "execution_count": 65
        }
      ]
    },
    {
      "cell_type": "code",
      "source": [
        "artemii_capital.positions"
      ],
      "metadata": {
        "colab": {
          "base_uri": "https://localhost:8080/"
        },
        "id": "n6OG7MiM0X-5",
        "outputId": "7c724dca-671d-4016-aea1-a10da40722a0"
      },
      "execution_count": null,
      "outputs": [
        {
          "output_type": "execute_result",
          "data": {
            "text/plain": [
              "{'MSFT': 140.3, 'AAPL': 158.36, 'NTFLX': 240}"
            ]
          },
          "metadata": {},
          "execution_count": 66
        }
      ]
    },
    {
      "cell_type": "code",
      "source": [
        "artemii_capital.add_position(\"VZN\", 86.3)"
      ],
      "metadata": {
        "id": "0KFVY6xY0K4A"
      },
      "execution_count": null,
      "outputs": []
    },
    {
      "cell_type": "code",
      "source": [
        "artemii_capital.positions"
      ],
      "metadata": {
        "colab": {
          "base_uri": "https://localhost:8080/"
        },
        "id": "oy0d1K3x0SvK",
        "outputId": "818aa387-db00-4a57-91fe-952a65bacfc9"
      },
      "execution_count": null,
      "outputs": [
        {
          "output_type": "execute_result",
          "data": {
            "text/plain": [
              "{'MSFT': 140.3, 'AAPL': 158.36, 'NTFLX': 240, 'VZN': 86.3}"
            ]
          },
          "metadata": {},
          "execution_count": 68
        }
      ]
    },
    {
      "cell_type": "code",
      "source": [
        "artemii_capital.fire_manager()"
      ],
      "metadata": {
        "id": "10eSpRfB0eZg"
      },
      "execution_count": null,
      "outputs": []
    },
    {
      "cell_type": "code",
      "source": [
        "artemii_capital.manager"
      ],
      "metadata": {
        "id": "3wCAx3H30hPJ"
      },
      "execution_count": null,
      "outputs": []
    },
    {
      "cell_type": "code",
      "source": [
        "def return_five():\n",
        "  print(5)"
      ],
      "metadata": {
        "id": "AONz0LuP0_kh"
      },
      "execution_count": null,
      "outputs": []
    },
    {
      "cell_type": "code",
      "source": [
        "number = return_five()"
      ],
      "metadata": {
        "colab": {
          "base_uri": "https://localhost:8080/"
        },
        "id": "UDByaBBg1Dq3",
        "outputId": "9be0a57a-5c04-4dae-8dac-93fa740679d7"
      },
      "execution_count": null,
      "outputs": [
        {
          "output_type": "stream",
          "name": "stdout",
          "text": [
            "5\n"
          ]
        }
      ]
    },
    {
      "cell_type": "code",
      "source": [
        "print(number)"
      ],
      "metadata": {
        "colab": {
          "base_uri": "https://localhost:8080/"
        },
        "id": "GjSI52LE1Hsf",
        "outputId": "c969a5e5-d457-413e-8d67-2de0f44e3a68"
      },
      "execution_count": null,
      "outputs": [
        {
          "output_type": "stream",
          "name": "stdout",
          "text": [
            "None\n"
          ]
        }
      ]
    }
  ]
}