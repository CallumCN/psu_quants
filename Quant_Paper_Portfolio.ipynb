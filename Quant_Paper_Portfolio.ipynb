{
  "nbformat": 4,
  "nbformat_minor": 0,
  "metadata": {
    "colab": {
      "provenance": [],
      "include_colab_link": true
    },
    "kernelspec": {
      "name": "python3",
      "display_name": "Python 3"
    },
    "language_info": {
      "name": "python"
    }
  },
  "cells": [
    {
      "cell_type": "markdown",
      "metadata": {
        "id": "view-in-github",
        "colab_type": "text"
      },
      "source": [
        "<a href=\"https://colab.research.google.com/github/artemmiyy/psu_quants/blob/main/Quant_Paper_Portfolio.ipynb\" target=\"_parent\"><img src=\"https://colab.research.google.com/assets/colab-badge.svg\" alt=\"Open In Colab\"/></a>"
      ]
    },
    {
      "cell_type": "code",
      "source": [
        "!pip install yfinance"
      ],
      "metadata": {
        "id": "XazDq8-bOU01",
        "outputId": "8dc52870-86b5-4427-e53c-96a4eecaeadb",
        "colab": {
          "base_uri": "https://localhost:8080/"
        }
      },
      "execution_count": 3,
      "outputs": [
        {
          "output_type": "stream",
          "name": "stdout",
          "text": [
            "Looking in indexes: https://pypi.org/simple, https://us-python.pkg.dev/colab-wheels/public/simple/\n",
            "Requirement already satisfied: yfinance in /usr/local/lib/python3.9/dist-packages (0.2.12)\n",
            "Requirement already satisfied: numpy>=1.16.5 in /usr/local/lib/python3.9/dist-packages (from yfinance) (1.22.4)\n",
            "Requirement already satisfied: cryptography>=3.3.2 in /usr/local/lib/python3.9/dist-packages (from yfinance) (39.0.2)\n",
            "Requirement already satisfied: lxml>=4.9.1 in /usr/local/lib/python3.9/dist-packages (from yfinance) (4.9.2)\n",
            "Requirement already satisfied: frozendict>=2.3.4 in /usr/local/lib/python3.9/dist-packages (from yfinance) (2.3.5)\n",
            "Requirement already satisfied: pandas>=1.3.0 in /usr/local/lib/python3.9/dist-packages (from yfinance) (1.4.4)\n",
            "Requirement already satisfied: html5lib>=1.1 in /usr/local/lib/python3.9/dist-packages (from yfinance) (1.1)\n",
            "Requirement already satisfied: beautifulsoup4>=4.11.1 in /usr/local/lib/python3.9/dist-packages (from yfinance) (4.11.2)\n",
            "Requirement already satisfied: multitasking>=0.0.7 in /usr/local/lib/python3.9/dist-packages (from yfinance) (0.0.11)\n",
            "Requirement already satisfied: requests>=2.26 in /usr/local/lib/python3.9/dist-packages (from yfinance) (2.27.1)\n",
            "Requirement already satisfied: pytz>=2022.5 in /usr/local/lib/python3.9/dist-packages (from yfinance) (2022.7.1)\n",
            "Requirement already satisfied: appdirs>=1.4.4 in /usr/local/lib/python3.9/dist-packages (from yfinance) (1.4.4)\n",
            "Requirement already satisfied: soupsieve>1.2 in /usr/local/lib/python3.9/dist-packages (from beautifulsoup4>=4.11.1->yfinance) (2.4)\n",
            "Requirement already satisfied: cffi>=1.12 in /usr/local/lib/python3.9/dist-packages (from cryptography>=3.3.2->yfinance) (1.15.1)\n",
            "Requirement already satisfied: six>=1.9 in /usr/local/lib/python3.9/dist-packages (from html5lib>=1.1->yfinance) (1.15.0)\n",
            "Requirement already satisfied: webencodings in /usr/local/lib/python3.9/dist-packages (from html5lib>=1.1->yfinance) (0.5.1)\n",
            "Requirement already satisfied: python-dateutil>=2.8.1 in /usr/local/lib/python3.9/dist-packages (from pandas>=1.3.0->yfinance) (2.8.2)\n",
            "Requirement already satisfied: idna<4,>=2.5 in /usr/local/lib/python3.9/dist-packages (from requests>=2.26->yfinance) (3.4)\n",
            "Requirement already satisfied: certifi>=2017.4.17 in /usr/local/lib/python3.9/dist-packages (from requests>=2.26->yfinance) (2022.12.7)\n",
            "Requirement already satisfied: charset-normalizer~=2.0.0 in /usr/local/lib/python3.9/dist-packages (from requests>=2.26->yfinance) (2.0.12)\n",
            "Requirement already satisfied: urllib3<1.27,>=1.21.1 in /usr/local/lib/python3.9/dist-packages (from requests>=2.26->yfinance) (1.26.15)\n",
            "Requirement already satisfied: pycparser in /usr/local/lib/python3.9/dist-packages (from cffi>=1.12->cryptography>=3.3.2->yfinance) (2.21)\n"
          ]
        }
      ]
    },
    {
      "cell_type": "code",
      "source": [
        "from pandas_datareader import data as pdr\n",
        "import yfinance as yf\n",
        "import pandas as pd\n",
        "import numpy as np\n",
        "from datetime import datetime\n",
        "import matplotlib as plt\n",
        "yf.pdr_override()"
      ],
      "metadata": {
        "id": "xjDkhUK-xwFt"
      },
      "execution_count": 4,
      "outputs": []
    },
    {
      "cell_type": "code",
      "source": [
        "y_symbols = ['AAPL']\n",
        "startdate = datetime(2013,3,16)\n",
        "AAPL = pdr.get_data_yahoo(y_symbols, start = startdate)\n",
        "\n",
        "# loads Stock price data \n",
        "def loadStockData(tickerList,startDate):\n",
        "  for ticker in tickerList: \n",
        "    tickerList[ticker] = pdr.get_data_yahoo(ticker, start = startdate)['Adj Close']\n",
        "    pdr.get_data_yahoo()\n"
      ],
      "metadata": {
        "id": "NhUeBsEtz9HO"
      },
      "execution_count": null,
      "outputs": []
    },
    {
      "cell_type": "code",
      "source": [
        "y_symbols = ['AAPL']\n",
        "startdate = datetime(2013,3,16)\n",
        "AAPL = pdr.get_data_yahoo(y_symbols, start = startdate)"
      ],
      "metadata": {
        "id": "0g6hUd4lyPb9",
        "outputId": "0fdea85e-269a-41fb-b2ab-81200a5b0b15",
        "colab": {
          "base_uri": "https://localhost:8080/"
        }
      },
      "execution_count": 6,
      "outputs": [
        {
          "output_type": "stream",
          "name": "stdout",
          "text": [
            "\r[*********************100%***********************]  1 of 1 completed\n"
          ]
        }
      ]
    },
    {
      "cell_type": "code",
      "source": [
        "AAPL.tail()"
      ],
      "metadata": {
        "id": "hLlQgeptykkr",
        "outputId": "d2918d03-d432-429a-bf71-e11c577ec77a",
        "colab": {
          "base_uri": "https://localhost:8080/",
          "height": 238
        }
      },
      "execution_count": 7,
      "outputs": [
        {
          "output_type": "execute_result",
          "data": {
            "text/plain": [
              "                  Open        High         Low       Close   Adj Close  \\\n",
              "Date                                                                     \n",
              "2023-03-13  147.809998  153.139999  147.699997  150.470001  150.470001   \n",
              "2023-03-14  151.279999  153.399994  150.100006  152.589996  152.589996   \n",
              "2023-03-15  151.190002  153.250000  149.919998  152.990005  152.990005   \n",
              "2023-03-16  152.160004  156.460007  151.639999  155.850006  155.850006   \n",
              "2023-03-17  156.080002  156.740005  154.279999  155.000000  155.000000   \n",
              "\n",
              "              Volume  \n",
              "Date                  \n",
              "2023-03-13  84457100  \n",
              "2023-03-14  73695900  \n",
              "2023-03-15  77167900  \n",
              "2023-03-16  76161100  \n",
              "2023-03-17  98862500  "
            ],
            "text/html": [
              "\n",
              "  <div id=\"df-b775a885-2914-4d01-95a1-7539c5ae23c2\">\n",
              "    <div class=\"colab-df-container\">\n",
              "      <div>\n",
              "<style scoped>\n",
              "    .dataframe tbody tr th:only-of-type {\n",
              "        vertical-align: middle;\n",
              "    }\n",
              "\n",
              "    .dataframe tbody tr th {\n",
              "        vertical-align: top;\n",
              "    }\n",
              "\n",
              "    .dataframe thead th {\n",
              "        text-align: right;\n",
              "    }\n",
              "</style>\n",
              "<table border=\"1\" class=\"dataframe\">\n",
              "  <thead>\n",
              "    <tr style=\"text-align: right;\">\n",
              "      <th></th>\n",
              "      <th>Open</th>\n",
              "      <th>High</th>\n",
              "      <th>Low</th>\n",
              "      <th>Close</th>\n",
              "      <th>Adj Close</th>\n",
              "      <th>Volume</th>\n",
              "    </tr>\n",
              "    <tr>\n",
              "      <th>Date</th>\n",
              "      <th></th>\n",
              "      <th></th>\n",
              "      <th></th>\n",
              "      <th></th>\n",
              "      <th></th>\n",
              "      <th></th>\n",
              "    </tr>\n",
              "  </thead>\n",
              "  <tbody>\n",
              "    <tr>\n",
              "      <th>2023-03-13</th>\n",
              "      <td>147.809998</td>\n",
              "      <td>153.139999</td>\n",
              "      <td>147.699997</td>\n",
              "      <td>150.470001</td>\n",
              "      <td>150.470001</td>\n",
              "      <td>84457100</td>\n",
              "    </tr>\n",
              "    <tr>\n",
              "      <th>2023-03-14</th>\n",
              "      <td>151.279999</td>\n",
              "      <td>153.399994</td>\n",
              "      <td>150.100006</td>\n",
              "      <td>152.589996</td>\n",
              "      <td>152.589996</td>\n",
              "      <td>73695900</td>\n",
              "    </tr>\n",
              "    <tr>\n",
              "      <th>2023-03-15</th>\n",
              "      <td>151.190002</td>\n",
              "      <td>153.250000</td>\n",
              "      <td>149.919998</td>\n",
              "      <td>152.990005</td>\n",
              "      <td>152.990005</td>\n",
              "      <td>77167900</td>\n",
              "    </tr>\n",
              "    <tr>\n",
              "      <th>2023-03-16</th>\n",
              "      <td>152.160004</td>\n",
              "      <td>156.460007</td>\n",
              "      <td>151.639999</td>\n",
              "      <td>155.850006</td>\n",
              "      <td>155.850006</td>\n",
              "      <td>76161100</td>\n",
              "    </tr>\n",
              "    <tr>\n",
              "      <th>2023-03-17</th>\n",
              "      <td>156.080002</td>\n",
              "      <td>156.740005</td>\n",
              "      <td>154.279999</td>\n",
              "      <td>155.000000</td>\n",
              "      <td>155.000000</td>\n",
              "      <td>98862500</td>\n",
              "    </tr>\n",
              "  </tbody>\n",
              "</table>\n",
              "</div>\n",
              "      <button class=\"colab-df-convert\" onclick=\"convertToInteractive('df-b775a885-2914-4d01-95a1-7539c5ae23c2')\"\n",
              "              title=\"Convert this dataframe to an interactive table.\"\n",
              "              style=\"display:none;\">\n",
              "        \n",
              "  <svg xmlns=\"http://www.w3.org/2000/svg\" height=\"24px\"viewBox=\"0 0 24 24\"\n",
              "       width=\"24px\">\n",
              "    <path d=\"M0 0h24v24H0V0z\" fill=\"none\"/>\n",
              "    <path d=\"M18.56 5.44l.94 2.06.94-2.06 2.06-.94-2.06-.94-.94-2.06-.94 2.06-2.06.94zm-11 1L8.5 8.5l.94-2.06 2.06-.94-2.06-.94L8.5 2.5l-.94 2.06-2.06.94zm10 10l.94 2.06.94-2.06 2.06-.94-2.06-.94-.94-2.06-.94 2.06-2.06.94z\"/><path d=\"M17.41 7.96l-1.37-1.37c-.4-.4-.92-.59-1.43-.59-.52 0-1.04.2-1.43.59L10.3 9.45l-7.72 7.72c-.78.78-.78 2.05 0 2.83L4 21.41c.39.39.9.59 1.41.59.51 0 1.02-.2 1.41-.59l7.78-7.78 2.81-2.81c.8-.78.8-2.07 0-2.86zM5.41 20L4 18.59l7.72-7.72 1.47 1.35L5.41 20z\"/>\n",
              "  </svg>\n",
              "      </button>\n",
              "      \n",
              "  <style>\n",
              "    .colab-df-container {\n",
              "      display:flex;\n",
              "      flex-wrap:wrap;\n",
              "      gap: 12px;\n",
              "    }\n",
              "\n",
              "    .colab-df-convert {\n",
              "      background-color: #E8F0FE;\n",
              "      border: none;\n",
              "      border-radius: 50%;\n",
              "      cursor: pointer;\n",
              "      display: none;\n",
              "      fill: #1967D2;\n",
              "      height: 32px;\n",
              "      padding: 0 0 0 0;\n",
              "      width: 32px;\n",
              "    }\n",
              "\n",
              "    .colab-df-convert:hover {\n",
              "      background-color: #E2EBFA;\n",
              "      box-shadow: 0px 1px 2px rgba(60, 64, 67, 0.3), 0px 1px 3px 1px rgba(60, 64, 67, 0.15);\n",
              "      fill: #174EA6;\n",
              "    }\n",
              "\n",
              "    [theme=dark] .colab-df-convert {\n",
              "      background-color: #3B4455;\n",
              "      fill: #D2E3FC;\n",
              "    }\n",
              "\n",
              "    [theme=dark] .colab-df-convert:hover {\n",
              "      background-color: #434B5C;\n",
              "      box-shadow: 0px 1px 3px 1px rgba(0, 0, 0, 0.15);\n",
              "      filter: drop-shadow(0px 1px 2px rgba(0, 0, 0, 0.3));\n",
              "      fill: #FFFFFF;\n",
              "    }\n",
              "  </style>\n",
              "\n",
              "      <script>\n",
              "        const buttonEl =\n",
              "          document.querySelector('#df-b775a885-2914-4d01-95a1-7539c5ae23c2 button.colab-df-convert');\n",
              "        buttonEl.style.display =\n",
              "          google.colab.kernel.accessAllowed ? 'block' : 'none';\n",
              "\n",
              "        async function convertToInteractive(key) {\n",
              "          const element = document.querySelector('#df-b775a885-2914-4d01-95a1-7539c5ae23c2');\n",
              "          const dataTable =\n",
              "            await google.colab.kernel.invokeFunction('convertToInteractive',\n",
              "                                                     [key], {});\n",
              "          if (!dataTable) return;\n",
              "\n",
              "          const docLinkHtml = 'Like what you see? Visit the ' +\n",
              "            '<a target=\"_blank\" href=https://colab.research.google.com/notebooks/data_table.ipynb>data table notebook</a>'\n",
              "            + ' to learn more about interactive tables.';\n",
              "          element.innerHTML = '';\n",
              "          dataTable['output_type'] = 'display_data';\n",
              "          await google.colab.output.renderOutput(dataTable, element);\n",
              "          const docLink = document.createElement('div');\n",
              "          docLink.innerHTML = docLinkHtml;\n",
              "          element.appendChild(docLink);\n",
              "        }\n",
              "      </script>\n",
              "    </div>\n",
              "  </div>\n",
              "  "
            ]
          },
          "metadata": {},
          "execution_count": 7
        }
      ]
    },
    {
      "cell_type": "code",
      "source": [
        "AAPL['daily_return'] = (AAPL['Adj Close'] / (AAPL['Adj Close'].shift(1))) - 1"
      ],
      "metadata": {
        "id": "mx9AxqUjy4ap"
      },
      "execution_count": 8,
      "outputs": []
    },
    {
      "cell_type": "code",
      "source": [
        "AAPL.tail()"
      ],
      "metadata": {
        "id": "I1CUGHMezic9",
        "outputId": "d41392d8-feb6-48c9-f1e8-afd3acb84fff",
        "colab": {
          "base_uri": "https://localhost:8080/",
          "height": 238
        }
      },
      "execution_count": 9,
      "outputs": [
        {
          "output_type": "execute_result",
          "data": {
            "text/plain": [
              "                  Open        High         Low       Close   Adj Close  \\\n",
              "Date                                                                     \n",
              "2023-03-13  147.809998  153.139999  147.699997  150.470001  150.470001   \n",
              "2023-03-14  151.279999  153.399994  150.100006  152.589996  152.589996   \n",
              "2023-03-15  151.190002  153.250000  149.919998  152.990005  152.990005   \n",
              "2023-03-16  152.160004  156.460007  151.639999  155.850006  155.850006   \n",
              "2023-03-17  156.080002  156.740005  154.279999  155.000000  155.000000   \n",
              "\n",
              "              Volume  daily_return  \n",
              "Date                                \n",
              "2023-03-13  84457100      0.013266  \n",
              "2023-03-14  73695900      0.014089  \n",
              "2023-03-15  77167900      0.002621  \n",
              "2023-03-16  76161100      0.018694  \n",
              "2023-03-17  98862500     -0.005454  "
            ],
            "text/html": [
              "\n",
              "  <div id=\"df-fff1104e-ed34-48b5-baea-141b4cd91130\">\n",
              "    <div class=\"colab-df-container\">\n",
              "      <div>\n",
              "<style scoped>\n",
              "    .dataframe tbody tr th:only-of-type {\n",
              "        vertical-align: middle;\n",
              "    }\n",
              "\n",
              "    .dataframe tbody tr th {\n",
              "        vertical-align: top;\n",
              "    }\n",
              "\n",
              "    .dataframe thead th {\n",
              "        text-align: right;\n",
              "    }\n",
              "</style>\n",
              "<table border=\"1\" class=\"dataframe\">\n",
              "  <thead>\n",
              "    <tr style=\"text-align: right;\">\n",
              "      <th></th>\n",
              "      <th>Open</th>\n",
              "      <th>High</th>\n",
              "      <th>Low</th>\n",
              "      <th>Close</th>\n",
              "      <th>Adj Close</th>\n",
              "      <th>Volume</th>\n",
              "      <th>daily_return</th>\n",
              "    </tr>\n",
              "    <tr>\n",
              "      <th>Date</th>\n",
              "      <th></th>\n",
              "      <th></th>\n",
              "      <th></th>\n",
              "      <th></th>\n",
              "      <th></th>\n",
              "      <th></th>\n",
              "      <th></th>\n",
              "    </tr>\n",
              "  </thead>\n",
              "  <tbody>\n",
              "    <tr>\n",
              "      <th>2023-03-13</th>\n",
              "      <td>147.809998</td>\n",
              "      <td>153.139999</td>\n",
              "      <td>147.699997</td>\n",
              "      <td>150.470001</td>\n",
              "      <td>150.470001</td>\n",
              "      <td>84457100</td>\n",
              "      <td>0.013266</td>\n",
              "    </tr>\n",
              "    <tr>\n",
              "      <th>2023-03-14</th>\n",
              "      <td>151.279999</td>\n",
              "      <td>153.399994</td>\n",
              "      <td>150.100006</td>\n",
              "      <td>152.589996</td>\n",
              "      <td>152.589996</td>\n",
              "      <td>73695900</td>\n",
              "      <td>0.014089</td>\n",
              "    </tr>\n",
              "    <tr>\n",
              "      <th>2023-03-15</th>\n",
              "      <td>151.190002</td>\n",
              "      <td>153.250000</td>\n",
              "      <td>149.919998</td>\n",
              "      <td>152.990005</td>\n",
              "      <td>152.990005</td>\n",
              "      <td>77167900</td>\n",
              "      <td>0.002621</td>\n",
              "    </tr>\n",
              "    <tr>\n",
              "      <th>2023-03-16</th>\n",
              "      <td>152.160004</td>\n",
              "      <td>156.460007</td>\n",
              "      <td>151.639999</td>\n",
              "      <td>155.850006</td>\n",
              "      <td>155.850006</td>\n",
              "      <td>76161100</td>\n",
              "      <td>0.018694</td>\n",
              "    </tr>\n",
              "    <tr>\n",
              "      <th>2023-03-17</th>\n",
              "      <td>156.080002</td>\n",
              "      <td>156.740005</td>\n",
              "      <td>154.279999</td>\n",
              "      <td>155.000000</td>\n",
              "      <td>155.000000</td>\n",
              "      <td>98862500</td>\n",
              "      <td>-0.005454</td>\n",
              "    </tr>\n",
              "  </tbody>\n",
              "</table>\n",
              "</div>\n",
              "      <button class=\"colab-df-convert\" onclick=\"convertToInteractive('df-fff1104e-ed34-48b5-baea-141b4cd91130')\"\n",
              "              title=\"Convert this dataframe to an interactive table.\"\n",
              "              style=\"display:none;\">\n",
              "        \n",
              "  <svg xmlns=\"http://www.w3.org/2000/svg\" height=\"24px\"viewBox=\"0 0 24 24\"\n",
              "       width=\"24px\">\n",
              "    <path d=\"M0 0h24v24H0V0z\" fill=\"none\"/>\n",
              "    <path d=\"M18.56 5.44l.94 2.06.94-2.06 2.06-.94-2.06-.94-.94-2.06-.94 2.06-2.06.94zm-11 1L8.5 8.5l.94-2.06 2.06-.94-2.06-.94L8.5 2.5l-.94 2.06-2.06.94zm10 10l.94 2.06.94-2.06 2.06-.94-2.06-.94-.94-2.06-.94 2.06-2.06.94z\"/><path d=\"M17.41 7.96l-1.37-1.37c-.4-.4-.92-.59-1.43-.59-.52 0-1.04.2-1.43.59L10.3 9.45l-7.72 7.72c-.78.78-.78 2.05 0 2.83L4 21.41c.39.39.9.59 1.41.59.51 0 1.02-.2 1.41-.59l7.78-7.78 2.81-2.81c.8-.78.8-2.07 0-2.86zM5.41 20L4 18.59l7.72-7.72 1.47 1.35L5.41 20z\"/>\n",
              "  </svg>\n",
              "      </button>\n",
              "      \n",
              "  <style>\n",
              "    .colab-df-container {\n",
              "      display:flex;\n",
              "      flex-wrap:wrap;\n",
              "      gap: 12px;\n",
              "    }\n",
              "\n",
              "    .colab-df-convert {\n",
              "      background-color: #E8F0FE;\n",
              "      border: none;\n",
              "      border-radius: 50%;\n",
              "      cursor: pointer;\n",
              "      display: none;\n",
              "      fill: #1967D2;\n",
              "      height: 32px;\n",
              "      padding: 0 0 0 0;\n",
              "      width: 32px;\n",
              "    }\n",
              "\n",
              "    .colab-df-convert:hover {\n",
              "      background-color: #E2EBFA;\n",
              "      box-shadow: 0px 1px 2px rgba(60, 64, 67, 0.3), 0px 1px 3px 1px rgba(60, 64, 67, 0.15);\n",
              "      fill: #174EA6;\n",
              "    }\n",
              "\n",
              "    [theme=dark] .colab-df-convert {\n",
              "      background-color: #3B4455;\n",
              "      fill: #D2E3FC;\n",
              "    }\n",
              "\n",
              "    [theme=dark] .colab-df-convert:hover {\n",
              "      background-color: #434B5C;\n",
              "      box-shadow: 0px 1px 3px 1px rgba(0, 0, 0, 0.15);\n",
              "      filter: drop-shadow(0px 1px 2px rgba(0, 0, 0, 0.3));\n",
              "      fill: #FFFFFF;\n",
              "    }\n",
              "  </style>\n",
              "\n",
              "      <script>\n",
              "        const buttonEl =\n",
              "          document.querySelector('#df-fff1104e-ed34-48b5-baea-141b4cd91130 button.colab-df-convert');\n",
              "        buttonEl.style.display =\n",
              "          google.colab.kernel.accessAllowed ? 'block' : 'none';\n",
              "\n",
              "        async function convertToInteractive(key) {\n",
              "          const element = document.querySelector('#df-fff1104e-ed34-48b5-baea-141b4cd91130');\n",
              "          const dataTable =\n",
              "            await google.colab.kernel.invokeFunction('convertToInteractive',\n",
              "                                                     [key], {});\n",
              "          if (!dataTable) return;\n",
              "\n",
              "          const docLinkHtml = 'Like what you see? Visit the ' +\n",
              "            '<a target=\"_blank\" href=https://colab.research.google.com/notebooks/data_table.ipynb>data table notebook</a>'\n",
              "            + ' to learn more about interactive tables.';\n",
              "          element.innerHTML = '';\n",
              "          dataTable['output_type'] = 'display_data';\n",
              "          await google.colab.output.renderOutput(dataTable, element);\n",
              "          const docLink = document.createElement('div');\n",
              "          docLink.innerHTML = docLinkHtml;\n",
              "          element.appendChild(docLink);\n",
              "        }\n",
              "      </script>\n",
              "    </div>\n",
              "  </div>\n",
              "  "
            ]
          },
          "metadata": {},
          "execution_count": 9
        }
      ]
    },
    {
      "cell_type": "code",
      "source": [
        "AAPL['daily_return'].plot(figsize = (12,5))"
      ],
      "metadata": {
        "id": "p07cI18OzqZw",
        "outputId": "b3d91b80-359a-4cff-f400-5b273e4b026d",
        "colab": {
          "base_uri": "https://localhost:8080/",
          "height": 335
        }
      },
      "execution_count": 10,
      "outputs": [
        {
          "output_type": "execute_result",
          "data": {
            "text/plain": [
              "<Axes: xlabel='Date'>"
            ]
          },
          "metadata": {},
          "execution_count": 10
        },
        {
          "output_type": "display_data",
          "data": {
            "text/plain": [
              "<Figure size 864x360 with 1 Axes>"
            ],
            "image/png": "[encoded data removed]"
          },
          "metadata": {
            "needs_background": "light"
          }
        }
      ]
    },
    {
      "cell_type": "code",
      "source": [
        "# calculating the average daily return\n",
        "avg_daily_return = AAPL['daily_return'].mean()\n",
        "avg_daily_return"
      ],
      "metadata": {
        "id": "y3fruwI30C2Z",
        "outputId": "492803da-c471-46b2-916e-fcf398d0b68f",
        "colab": {
          "base_uri": "https://localhost:8080/"
        }
      },
      "execution_count": 11,
      "outputs": [
        {
          "output_type": "execute_result",
          "data": {
            "text/plain": [
              "0.0011174413705893613"
            ]
          },
          "metadata": {},
          "execution_count": 11
        }
      ]
    },
    {
      "cell_type": "code",
      "source": [
        "avg_annual_return = avg_daily_return * 250\n",
        "avg_annual_return"
      ],
      "metadata": {
        "id": "S9wDX0aV0bub",
        "outputId": "7d413f96-7caf-4884-a1f1-417bc925e50f",
        "colab": {
          "base_uri": "https://localhost:8080/"
        }
      },
      "execution_count": 12,
      "outputs": [
        {
          "output_type": "execute_result",
          "data": {
            "text/plain": [
              "0.27936034264734033"
            ]
          },
          "metadata": {},
          "execution_count": 12
        }
      ]
    },
    {
      "cell_type": "code",
      "source": [
        "print(str(round(avg_annual_return, 5) * 100) + '%')"
      ],
      "metadata": {
        "id": "prLYKOhy0u-a",
        "outputId": "a80dff63-ab2c-4494-8f3c-f781d0659d07",
        "colab": {
          "base_uri": "https://localhost:8080/"
        }
      },
      "execution_count": 13,
      "outputs": [
        {
          "output_type": "stream",
          "name": "stdout",
          "text": [
            "27.936%\n"
          ]
        }
      ]
    },
    {
      "cell_type": "code",
      "source": [
        "us_stocks = ['AAPL', 'BBW', 'EPD', 'MCD']"
      ],
      "metadata": {
        "id": "X7PYVLQL047v"
      },
      "execution_count": 14,
      "outputs": []
    },
    {
      "cell_type": "code",
      "source": [
        "stocks_data = pd.DataFrame()\n",
        "startdate = datetime(2013, 3, 16)\n",
        "for ticker in us_stocks:\n",
        "  stocks_data[ticker] = pdr.get_data_yahoo(ticker, start = startdate)['Adj Close']"
      ],
      "metadata": {
        "id": "sN0aWugy1Q-Y",
        "outputId": "49ade24a-e093-4018-bd0e-a5758c0ab2d1",
        "colab": {
          "base_uri": "https://localhost:8080/"
        }
      },
      "execution_count": 15,
      "outputs": [
        {
          "output_type": "stream",
          "name": "stdout",
          "text": [
            "[*********************100%***********************]  1 of 1 completed\n",
            "[*********************100%***********************]  1 of 1 completed\n",
            "[*********************100%***********************]  1 of 1 completed\n",
            "[*********************100%***********************]  1 of 1 completed\n"
          ]
        }
      ]
    },
    {
      "cell_type": "code",
      "source": [
        "stocks_data.info()"
      ],
      "metadata": {
        "id": "AeN7IMWA28v6",
        "outputId": "d608024e-b5cb-46d5-b4bb-992e0acd5875",
        "colab": {
          "base_uri": "https://localhost:8080/"
        }
      },
      "execution_count": 16,
      "outputs": [
        {
          "output_type": "stream",
          "name": "stdout",
          "text": [
            "<class 'pandas.core.frame.DataFrame'>\n",
            "DatetimeIndex: 2519 entries, 2013-03-18 to 2023-03-17\n",
            "Data columns (total 4 columns):\n",
            " #   Column  Non-Null Count  Dtype  \n",
            "---  ------  --------------  -----  \n",
            " 0   AAPL    2519 non-null   float64\n",
            " 1   BBW     2519 non-null   float64\n",
            " 2   EPD     2519 non-null   float64\n",
            " 3   MCD     2519 non-null   float64\n",
            "dtypes: float64(4)\n",
            "memory usage: 98.4 KB\n"
          ]
        }
      ]
    },
    {
      "cell_type": "code",
      "source": [
        "(stocks_data / stocks_data.iloc[0] * 100).plot(figsize = (15,6))"
      ],
      "metadata": {
        "id": "do_yaHyC3kMG",
        "outputId": "2acbc09e-b715-44e8-b696-b9ea87d1e949",
        "colab": {
          "base_uri": "https://localhost:8080/",
          "height": 384
        }
      },
      "execution_count": 17,
      "outputs": [
        {
          "output_type": "execute_result",
          "data": {
            "text/plain": [
              "<Axes: xlabel='Date'>"
            ]
          },
          "metadata": {},
          "execution_count": 17
        },
        {
          "output_type": "display_data",
          "data": {
            "text/plain": [
              "<Figure size 1080x432 with 1 Axes>"
            ],
            "image/png": "[encoded data removed]"
          },
          "metadata": {
            "needs_background": "light"
          }
        }
      ]
    },
    {
      "cell_type": "code",
      "source": [
        "returns = (stocks_data / stocks_data.shift(1)) - 1\n",
        "returns.head()"
      ],
      "metadata": {
        "id": "_ssPC66X4GTT",
        "outputId": "5f1a34d8-35eb-430b-e8ad-f09e273e9d66",
        "colab": {
          "base_uri": "https://localhost:8080/",
          "height": 238
        }
      },
      "execution_count": 18,
      "outputs": [
        {
          "output_type": "execute_result",
          "data": {
            "text/plain": [
              "                AAPL       BBW       EPD       MCD\n",
              "Date                                              \n",
              "2013-03-18       NaN       NaN       NaN       NaN\n",
              "2013-03-19 -0.002699  0.013780 -0.000531 -0.001724\n",
              "2013-03-20 -0.005303  0.015534  0.013473  0.003760\n",
              "2013-03-21  0.001438  0.013384  0.015393 -0.002430\n",
              "2013-03-22  0.020277  0.024528  0.013609  0.007511"
            ],
            "text/html": [
              "\n",
              "  <div id=\"df-e56fa04d-a272-4d1b-b23b-8d4d69246f9b\">\n",
              "    <div class=\"colab-df-container\">\n",
              "      <div>\n",
              "<style scoped>\n",
              "    .dataframe tbody tr th:only-of-type {\n",
              "        vertical-align: middle;\n",
              "    }\n",
              "\n",
              "    .dataframe tbody tr th {\n",
              "        vertical-align: top;\n",
              "    }\n",
              "\n",
              "    .dataframe thead th {\n",
              "        text-align: right;\n",
              "    }\n",
              "</style>\n",
              "<table border=\"1\" class=\"dataframe\">\n",
              "  <thead>\n",
              "    <tr style=\"text-align: right;\">\n",
              "      <th></th>\n",
              "      <th>AAPL</th>\n",
              "      <th>BBW</th>\n",
              "      <th>EPD</th>\n",
              "      <th>MCD</th>\n",
              "    </tr>\n",
              "    <tr>\n",
              "      <th>Date</th>\n",
              "      <th></th>\n",
              "      <th></th>\n",
              "      <th></th>\n",
              "      <th></th>\n",
              "    </tr>\n",
              "  </thead>\n",
              "  <tbody>\n",
              "    <tr>\n",
              "      <th>2013-03-18</th>\n",
              "      <td>NaN</td>\n",
              "      <td>NaN</td>\n",
              "      <td>NaN</td>\n",
              "      <td>NaN</td>\n",
              "    </tr>\n",
              "    <tr>\n",
              "      <th>2013-03-19</th>\n",
              "      <td>-0.002699</td>\n",
              "      <td>0.013780</td>\n",
              "      <td>-0.000531</td>\n",
              "      <td>-0.001724</td>\n",
              "    </tr>\n",
              "    <tr>\n",
              "      <th>2013-03-20</th>\n",
              "      <td>-0.005303</td>\n",
              "      <td>0.015534</td>\n",
              "      <td>0.013473</td>\n",
              "      <td>0.003760</td>\n",
              "    </tr>\n",
              "    <tr>\n",
              "      <th>2013-03-21</th>\n",
              "      <td>0.001438</td>\n",
              "      <td>0.013384</td>\n",
              "      <td>0.015393</td>\n",
              "      <td>-0.002430</td>\n",
              "    </tr>\n",
              "    <tr>\n",
              "      <th>2013-03-22</th>\n",
              "      <td>0.020277</td>\n",
              "      <td>0.024528</td>\n",
              "      <td>0.013609</td>\n",
              "      <td>0.007511</td>\n",
              "    </tr>\n",
              "  </tbody>\n",
              "</table>\n",
              "</div>\n",
              "      <button class=\"colab-df-convert\" onclick=\"convertToInteractive('df-e56fa04d-a272-4d1b-b23b-8d4d69246f9b')\"\n",
              "              title=\"Convert this dataframe to an interactive table.\"\n",
              "              style=\"display:none;\">\n",
              "        \n",
              "  <svg xmlns=\"http://www.w3.org/2000/svg\" height=\"24px\"viewBox=\"0 0 24 24\"\n",
              "       width=\"24px\">\n",
              "    <path d=\"M0 0h24v24H0V0z\" fill=\"none\"/>\n",
              "    <path d=\"M18.56 5.44l.94 2.06.94-2.06 2.06-.94-2.06-.94-.94-2.06-.94 2.06-2.06.94zm-11 1L8.5 8.5l.94-2.06 2.06-.94-2.06-.94L8.5 2.5l-.94 2.06-2.06.94zm10 10l.94 2.06.94-2.06 2.06-.94-2.06-.94-.94-2.06-.94 2.06-2.06.94z\"/><path d=\"M17.41 7.96l-1.37-1.37c-.4-.4-.92-.59-1.43-.59-.52 0-1.04.2-1.43.59L10.3 9.45l-7.72 7.72c-.78.78-.78 2.05 0 2.83L4 21.41c.39.39.9.59 1.41.59.51 0 1.02-.2 1.41-.59l7.78-7.78 2.81-2.81c.8-.78.8-2.07 0-2.86zM5.41 20L4 18.59l7.72-7.72 1.47 1.35L5.41 20z\"/>\n",
              "  </svg>\n",
              "      </button>\n",
              "      \n",
              "  <style>\n",
              "    .colab-df-container {\n",
              "      display:flex;\n",
              "      flex-wrap:wrap;\n",
              "      gap: 12px;\n",
              "    }\n",
              "\n",
              "    .colab-df-convert {\n",
              "      background-color: #E8F0FE;\n",
              "      border: none;\n",
              "      border-radius: 50%;\n",
              "      cursor: pointer;\n",
              "      display: none;\n",
              "      fill: #1967D2;\n",
              "      height: 32px;\n",
              "      padding: 0 0 0 0;\n",
              "      width: 32px;\n",
              "    }\n",
              "\n",
              "    .colab-df-convert:hover {\n",
              "      background-color: #E2EBFA;\n",
              "      box-shadow: 0px 1px 2px rgba(60, 64, 67, 0.3), 0px 1px 3px 1px rgba(60, 64, 67, 0.15);\n",
              "      fill: #174EA6;\n",
              "    }\n",
              "\n",
              "    [theme=dark] .colab-df-convert {\n",
              "      background-color: #3B4455;\n",
              "      fill: #D2E3FC;\n",
              "    }\n",
              "\n",
              "    [theme=dark] .colab-df-convert:hover {\n",
              "      background-color: #434B5C;\n",
              "      box-shadow: 0px 1px 3px 1px rgba(0, 0, 0, 0.15);\n",
              "      filter: drop-shadow(0px 1px 2px rgba(0, 0, 0, 0.3));\n",
              "      fill: #FFFFFF;\n",
              "    }\n",
              "  </style>\n",
              "\n",
              "      <script>\n",
              "        const buttonEl =\n",
              "          document.querySelector('#df-e56fa04d-a272-4d1b-b23b-8d4d69246f9b button.colab-df-convert');\n",
              "        buttonEl.style.display =\n",
              "          google.colab.kernel.accessAllowed ? 'block' : 'none';\n",
              "\n",
              "        async function convertToInteractive(key) {\n",
              "          const element = document.querySelector('#df-e56fa04d-a272-4d1b-b23b-8d4d69246f9b');\n",
              "          const dataTable =\n",
              "            await google.colab.kernel.invokeFunction('convertToInteractive',\n",
              "                                                     [key], {});\n",
              "          if (!dataTable) return;\n",
              "\n",
              "          const docLinkHtml = 'Like what you see? Visit the ' +\n",
              "            '<a target=\"_blank\" href=https://colab.research.google.com/notebooks/data_table.ipynb>data table notebook</a>'\n",
              "            + ' to learn more about interactive tables.';\n",
              "          element.innerHTML = '';\n",
              "          dataTable['output_type'] = 'display_data';\n",
              "          await google.colab.output.renderOutput(dataTable, element);\n",
              "          const docLink = document.createElement('div');\n",
              "          docLink.innerHTML = docLinkHtml;\n",
              "          element.appendChild(docLink);\n",
              "        }\n",
              "      </script>\n",
              "    </div>\n",
              "  </div>\n",
              "  "
            ]
          },
          "metadata": {},
          "execution_count": 18
        }
      ]
    },
    {
      "cell_type": "code",
      "source": [
        "# weights of the securities in our portfolio\n",
        "weights = np.array([0.25, 0.25, 0.25, 0.25])"
      ],
      "metadata": {
        "id": "9Fbcx0Zg4VDZ"
      },
      "execution_count": 19,
      "outputs": []
    },
    {
      "cell_type": "code",
      "source": [
        "np.dot(returns, weights)"
      ],
      "metadata": {
        "id": "juEh5wmX4tiP",
        "outputId": "70693729-f632-4d34-9c49-152bf848025b",
        "colab": {
          "base_uri": "https://localhost:8080/"
        }
      },
      "execution_count": 20,
      "outputs": [
        {
          "output_type": "execute_result",
          "data": {
            "text/plain": [
              "array([        nan,  0.00220621,  0.00686603, ..., -0.00732461,\n",
              "        0.01240092, -0.00929003])"
            ]
          },
          "metadata": {},
          "execution_count": 20
        }
      ]
    },
    {
      "cell_type": "code",
      "source": [
        "# takes a dataframe with stock price data and a list with their respective weights\n",
        "def calculate_expected_return(pd_df_us_stocks, weights):\n",
        "  daily_returns = (pd_df_us_stocks / pd_df_us_stocks.shift(1)) - 1\n",
        "  weights = np.array(weights)\n",
        "  np.dot(daily_returns, weights)\n",
        "  annual_portfolio_return = daily_returns.mean() * 250\n",
        "  annual_portfolio_return = np.dot(annual_portfolio_return, weights)\n",
        "  return annual_portfolio_return"
      ],
      "metadata": {
        "id": "S2WM1TZk41U5"
      },
      "execution_count": 28,
      "outputs": []
    },
    {
      "cell_type": "code",
      "source": [
        "calculate_expected_return(stocks_data, [0.25, 0.25, 0.25, 0.25])"
      ],
      "metadata": {
        "id": "VQczN_oH5yUv",
        "outputId": "4a2f4b02-8604-4f7b-d8a0-4f8b9600ebfe",
        "colab": {
          "base_uri": "https://localhost:8080/"
        }
      },
      "execution_count": 29,
      "outputs": [
        {
          "output_type": "execute_result",
          "data": {
            "text/plain": [
              "0.2213261126091662"
            ]
          },
          "metadata": {},
          "execution_count": 29
        }
      ]
    },
    {
      "cell_type": "code",
      "source": [
        "annual_portfolio_return = returns.mean() * 250"
      ],
      "metadata": {
        "id": "-nM3cqvs47HP"
      },
      "execution_count": 22,
      "outputs": []
    },
    {
      "cell_type": "code",
      "source": [
        "np.dot(annual_portfolio_return, weights)"
      ],
      "metadata": {
        "id": "7KFT474c5Cvs",
        "outputId": "ed81ccc6-8194-4e0e-9ac2-e672cdecf0b1",
        "colab": {
          "base_uri": "https://localhost:8080/"
        }
      },
      "execution_count": 23,
      "outputs": [
        {
          "output_type": "execute_result",
          "data": {
            "text/plain": [
              "0.2213261126091662"
            ]
          },
          "metadata": {},
          "execution_count": 23
        }
      ]
    },
    {
      "cell_type": "code",
      "source": [
        "class Portfolio:\n",
        "  def __init__(self, name, cash):\n",
        "    self.expense_ratio = None\n",
        "    self.cash = cash\n",
        "    self.name = name\n",
        "    self.us_stock_holdings = None\n",
        "    self.expected_return = None\n",
        "    self.portfolio_beta = None\n",
        "    self.variance = None\n",
        "    self.sharpe_ratio = None\n",
        "  \n",
        "  def add_us_stock(self, ticker, price, quantity):\n",
        "    self.cash -= price * quantity\n",
        "    \n",
        "  def portfolio_report(self):\n",
        "    print(\"PSU Quants {portfolio} Portfolio\".format(portfolio = self.name))\n",
        "    print(\"Assets Under Management: {aum}\".format(aum = self.cash)) # add all assets later\n",
        "    print(\"Cash on Hand: {cash}\".format(cash = self.cash))\n",
        "    print(\"Return as of {date}: {return_1}\".format(date = \"2020\", return_1 = self.cash))"
      ],
      "metadata": {
        "id": "i4me-8SR5-OP"
      },
      "execution_count": 24,
      "outputs": []
    },
    {
      "cell_type": "code",
      "source": [
        "test_portfolio = Portfolio('PSU Quant Portfolio', 1000000)"
      ],
      "metadata": {
        "id": "AJAsg4ZK8GK0"
      },
      "execution_count": 25,
      "outputs": []
    },
    {
      "cell_type": "code",
      "source": [
        "test_portfolio.portfolio_report()"
      ],
      "metadata": {
        "id": "r0YyqLRC8OcB",
        "outputId": "dad3c6ca-b69a-4424-d4f1-3a09e3f743b2",
        "colab": {
          "base_uri": "https://localhost:8080/"
        }
      },
      "execution_count": 26,
      "outputs": [
        {
          "output_type": "stream",
          "name": "stdout",
          "text": [
            "PSU Quants PSU Quant Portfolio Portfolio\n",
            "Assets Under Management: 1000000\n",
            "Cash on Hand: 1000000\n",
            "Return as of 2020: 1000000\n"
          ]
        }
      ]
    }
  ]
}